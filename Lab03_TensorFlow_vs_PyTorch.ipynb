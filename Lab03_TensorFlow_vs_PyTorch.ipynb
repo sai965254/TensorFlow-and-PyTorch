{
  "cells": [
    {
      "cell_type": "markdown",
      "id": "5c1e84a1",
      "metadata": {
        "id": "5c1e84a1"
      },
      "source": [
        "# Lab 03: TensorFlow vs. PyTorch\n",
        "- Train a model on MNIST in both TensorFlow and PyTorch, convert to TFLite and ONNX.  \n",
        "- Use tf.GradientTape for Tensorflow custom training loop.\n",
        "\n"
      ]
    },
    {
      "cell_type": "markdown",
      "id": "a1c58bba",
      "metadata": {
        "id": "a1c58bba"
      },
      "source": [
        "## TensorFlow Implementation"
      ]
    },
    {
      "cell_type": "code",
      "execution_count": 8,
      "id": "23ebc05e",
      "metadata": {
        "id": "23ebc05e",
        "colab": {
          "base_uri": "https://localhost:8080/"
        },
        "outputId": "77feb237-e4d5-4144-a284-05fa1087c84e"
      },
      "outputs": [
        {
          "output_type": "stream",
          "name": "stdout",
          "text": [
            "Epoch 1/5\n",
            "\u001b[1m1875/1875\u001b[0m \u001b[32m━━━━━━━━━━━━━━━━━━━━\u001b[0m\u001b[37m\u001b[0m \u001b[1m5s\u001b[0m 2ms/step - accuracy: 0.8548 - loss: 0.5139\n",
            "Epoch 2/5\n",
            "\u001b[1m1875/1875\u001b[0m \u001b[32m━━━━━━━━━━━━━━━━━━━━\u001b[0m\u001b[37m\u001b[0m \u001b[1m6s\u001b[0m 3ms/step - accuracy: 0.9517 - loss: 0.1692\n",
            "Epoch 3/5\n",
            "\u001b[1m1875/1875\u001b[0m \u001b[32m━━━━━━━━━━━━━━━━━━━━\u001b[0m\u001b[37m\u001b[0m \u001b[1m4s\u001b[0m 2ms/step - accuracy: 0.9677 - loss: 0.1102\n",
            "Epoch 4/5\n",
            "\u001b[1m1875/1875\u001b[0m \u001b[32m━━━━━━━━━━━━━━━━━━━━\u001b[0m\u001b[37m\u001b[0m \u001b[1m4s\u001b[0m 2ms/step - accuracy: 0.9745 - loss: 0.0866\n",
            "Epoch 5/5\n",
            "\u001b[1m1875/1875\u001b[0m \u001b[32m━━━━━━━━━━━━━━━━━━━━\u001b[0m\u001b[37m\u001b[0m \u001b[1m5s\u001b[0m 3ms/step - accuracy: 0.9805 - loss: 0.0667\n",
            "TF Training time: 24.24 seconds\n",
            "\u001b[1m313/313\u001b[0m \u001b[32m━━━━━━━━━━━━━━━━━━━━\u001b[0m\u001b[37m\u001b[0m \u001b[1m1s\u001b[0m 2ms/step - accuracy: 0.9692 - loss: 0.1109\n"
          ]
        },
        {
          "output_type": "execute_result",
          "data": {
            "text/plain": [
              "[0.09632004052400589, 0.9718999862670898]"
            ]
          },
          "metadata": {},
          "execution_count": 8
        }
      ],
      "source": [
        "import tensorflow as tf\n",
        "from tensorflow.keras.datasets import mnist\n",
        "from tensorflow.keras.utils import to_categorical\n",
        "import time\n",
        "\n",
        "(x_train, y_train), (x_test, y_test) = mnist.load_data()\n",
        "x_train = x_train / 255   # Fill in normalization factor\n",
        "x_test = x_test / 255     # Fill in normalization factor\n",
        "y_train = to_categorical(y_train)\n",
        "y_test = to_categorical(y_test)\n",
        "\n",
        "model = tf.keras.Sequential([\n",
        "    tf.keras.layers.Input(shape=(28, 28)),        # Fill input shape\n",
        "    tf.keras.layers.Flatten(),\n",
        "    tf.keras.layers.Dense(64, activation='relu'),  # Fill number of hidden neurons\n",
        "    tf.keras.layers.Dense(10, activation='softmax')  # Fill number of output neurons\n",
        "])\n",
        "\n",
        "model.compile(optimizer='adam',\n",
        "              loss='categorical_crossentropy',       # Fill name of loss function\n",
        "              metrics=['accuracy'])\n",
        "\n",
        "start = time.time()\n",
        "model.fit(x_train, y_train, epochs=5)\n",
        "end = time.time()\n",
        "print(f\"TF Training time: {end-start:.2f} seconds\")       # Output training time\n",
        "model.evaluate(x_test, y_test)"
      ]
    },
    {
      "cell_type": "markdown",
      "id": "72743ab8",
      "metadata": {
        "id": "72743ab8"
      },
      "source": [
        "## Convert TensorFlow model to TFLite"
      ]
    },
    {
      "cell_type": "code",
      "execution_count": 9,
      "id": "be6ab50a",
      "metadata": {
        "id": "be6ab50a",
        "outputId": "efa450de-4696-4788-d96d-944fdd7fda80",
        "colab": {
          "base_uri": "https://localhost:8080/"
        }
      },
      "outputs": [
        {
          "output_type": "stream",
          "name": "stdout",
          "text": [
            "Saved artifact at '/tmp/tmpl0mtlyw2'. The following endpoints are available:\n",
            "\n",
            "* Endpoint 'serve'\n",
            "  args_0 (POSITIONAL_ONLY): TensorSpec(shape=(None, 28, 28), dtype=tf.float32, name='keras_tensor_8')\n",
            "Output Type:\n",
            "  TensorSpec(shape=(None, 10), dtype=tf.float32, name=None)\n",
            "Captures:\n",
            "  137118305253328: TensorSpec(shape=(), dtype=tf.resource, name=None)\n",
            "  137118305251216: TensorSpec(shape=(), dtype=tf.resource, name=None)\n",
            "  137118305251792: TensorSpec(shape=(), dtype=tf.resource, name=None)\n",
            "  137118305249872: TensorSpec(shape=(), dtype=tf.resource, name=None)\n"
          ]
        }
      ],
      "source": [
        "converter = tf.lite.TFLiteConverter.from_keras_model(model)\n",
        "tflite_model = converter.convert()\n",
        "\n",
        "with open(\"model.tflite\", \"wb\") as f:\n",
        "    f.write(tflite_model)"
      ]
    },
    {
      "cell_type": "markdown",
      "id": "57c00c95",
      "metadata": {
        "id": "57c00c95"
      },
      "source": [
        "## PyTorch Implementation"
      ]
    },
    {
      "cell_type": "code",
      "execution_count": 11,
      "id": "623dfb49",
      "metadata": {
        "id": "623dfb49",
        "outputId": "4234e4e8-56d8-4122-acaf-2eb87d71359d",
        "colab": {
          "base_uri": "https://localhost:8080/"
        }
      },
      "outputs": [
        {
          "output_type": "stream",
          "name": "stdout",
          "text": [
            "PyTorch Training time: 67.85 seconds\n",
            "Test accuracy: 0.9731\n"
          ]
        }
      ],
      "source": [
        "import torch\n",
        "import torch.nn as nn\n",
        "import torch.nn.functional as F\n",
        "import torch.optim as optim\n",
        "from torchvision import datasets, transforms\n",
        "from torch.utils.data import DataLoader\n",
        "import time  # Added missing import\n",
        "\n",
        "transform = transforms.Compose([transforms.ToTensor(), transforms.Lambda(lambda x: x.view(-1))])\n",
        "train_loader = DataLoader(datasets.MNIST(root='./data', train=True, transform=transform, download=True), batch_size=32)\n",
        "test_loader = DataLoader(datasets.MNIST(root='./data', train=False, transform=transform, download=True), batch_size=1000)\n",
        "\n",
        "class Net(nn.Module):\n",
        "    def __init__(self):\n",
        "        super(Net, self).__init__()\n",
        "        self.fc1 = nn.Linear(784, 128)    # Input size 784 (28x28), output size 128\n",
        "        self.fc2 = nn.Linear(128, 10)     # Input size 128, output size 10 (digits 0-9)\n",
        "    def forward(self, x):\n",
        "        x = F.relu(self.fc1(x))    # Apply ReLU to first layer\n",
        "        return self.fc2(x)         # Output from second layer (no activation for CrossEntropyLoss)\n",
        "\n",
        "model = Net()\n",
        "optimizer = optim.Adam(model.parameters())\n",
        "loss_fn = nn.CrossEntropyLoss()\n",
        "\n",
        "start = time.time()\n",
        "for epoch in range(5):\n",
        "    for x, y in train_loader:\n",
        "        optimizer.zero_grad()\n",
        "        pred = model(x)\n",
        "        loss = loss_fn(pred, y)\n",
        "        loss.backward()\n",
        "        optimizer.step()\n",
        "end = time.time()\n",
        "print(f\"PyTorch Training time: {end - start:.2f} seconds\")\n",
        "\n",
        "model.eval()\n",
        "correct = 0\n",
        "with torch.no_grad():\n",
        "    for x, y in test_loader:\n",
        "        output = model(x)\n",
        "        pred = output.argmax(1)\n",
        "        correct += (pred == y).sum().item()\n",
        "print(f\"Test accuracy: {correct / len(test_loader.dataset):.4f}\")"
      ]
    },
    {
      "cell_type": "markdown",
      "id": "f6dbdab0",
      "metadata": {
        "id": "f6dbdab0"
      },
      "source": [
        "## Convert PyTorch model to ONNX"
      ]
    },
    {
      "cell_type": "code",
      "source": [
        "# Install ONNX\n",
        "!pip install onnx"
      ],
      "metadata": {
        "id": "WuMKMhHc8aLF",
        "outputId": "1392dfc1-fd43-41fa-a9dc-320b3d5d9c75",
        "colab": {
          "base_uri": "https://localhost:8080/"
        }
      },
      "id": "WuMKMhHc8aLF",
      "execution_count": 12,
      "outputs": [
        {
          "output_type": "stream",
          "name": "stdout",
          "text": [
            "Collecting onnx\n",
            "  Downloading onnx-1.18.0-cp311-cp311-manylinux_2_17_x86_64.manylinux2014_x86_64.whl.metadata (6.9 kB)\n",
            "Requirement already satisfied: numpy>=1.22 in /usr/local/lib/python3.11/dist-packages (from onnx) (2.0.2)\n",
            "Requirement already satisfied: protobuf>=4.25.1 in /usr/local/lib/python3.11/dist-packages (from onnx) (5.29.5)\n",
            "Requirement already satisfied: typing_extensions>=4.7.1 in /usr/local/lib/python3.11/dist-packages (from onnx) (4.14.0)\n",
            "Downloading onnx-1.18.0-cp311-cp311-manylinux_2_17_x86_64.manylinux2014_x86_64.whl (17.6 MB)\n",
            "\u001b[2K   \u001b[90m━━━━━━━━━━━━━━━━━━━━━━━━━━━━━━━━━━━━━━━━\u001b[0m \u001b[32m17.6/17.6 MB\u001b[0m \u001b[31m94.0 MB/s\u001b[0m eta \u001b[36m0:00:00\u001b[0m\n",
            "\u001b[?25hInstalling collected packages: onnx\n",
            "Successfully installed onnx-1.18.0\n"
          ]
        }
      ]
    },
    {
      "cell_type": "code",
      "execution_count": 13,
      "id": "09925e9a",
      "metadata": {
        "id": "09925e9a"
      },
      "outputs": [],
      "source": [
        "dummy_input = torch.randn(1, 784)\n",
        "torch.onnx.export(model, dummy_input, \"model.onnx\",\n",
        "                  input_names=[\"input\"], output_names=[\"output\"])"
      ]
    },
    {
      "cell_type": "markdown",
      "source": [
        "## TensorFlow custom training loop using tf.GradientTape"
      ],
      "metadata": {
        "id": "sv4P-dSS_GQB"
      },
      "id": "sv4P-dSS_GQB"
    },
    {
      "cell_type": "code",
      "source": [
        "import tensorflow as tf\n",
        "from tensorflow.keras.datasets import mnist\n",
        "from tensorflow.keras.utils import to_categorical\n",
        "import time\n",
        "\n",
        "# Load and preprocess data\n",
        "(x_train, y_train), (x_test, y_test) = mnist.load_data()\n",
        "x_train = x_train / 255.0   # Normalize pixel values to [0, 1]\n",
        "x_test = x_test / 255.0     # Normalize pixel values to [0, 1]\n",
        "y_train = to_categorical(y_train)\n",
        "y_test = to_categorical(y_test)\n",
        "\n",
        "# Prepare datasets\n",
        "batch_size = 32         # Same batch size as PyTorch example\n",
        "train_dataset = tf.data.Dataset.from_tensor_slices((x_train, y_train)).shuffle(10000).batch(batch_size)\n",
        "test_dataset = tf.data.Dataset.from_tensor_slices((x_test, y_test)).batch(batch_size)\n",
        "\n",
        "# Define model\n",
        "model = tf.keras.Sequential([\n",
        "    tf.keras.layers.Input(shape=(28, 28)),    # MNIST image size\n",
        "    tf.keras.layers.Flatten(),\n",
        "    tf.keras.layers.Dense(128, activation='relu'),    # 128 neurons with ReLU activation\n",
        "    tf.keras.layers.Dense(10, activation='softmax')   # 10 output classes with softmax\n",
        "])\n",
        "\n",
        "# Define loss, optimizer, and metrics\n",
        "loss_fn = tf.keras.losses.CategoricalCrossentropy()\n",
        "optimizer = tf.keras.optimizers.Adam()\n",
        "train_acc_metric = tf.keras.metrics.CategoricalAccuracy()\n",
        "test_acc_metric = tf.keras.metrics.CategoricalAccuracy()\n",
        "\n",
        "# Training loop\n",
        "epochs = 5\n",
        "start = time.time()\n",
        "for epoch in range(epochs):\n",
        "    print(f\"\\nEpoch {epoch + 1}/{epochs}\")\n",
        "    for step, (x_batch, y_batch) in enumerate(train_dataset):\n",
        "        with tf.GradientTape() as tape:\n",
        "            logits = model(x_batch, training=True)\n",
        "            loss = loss_fn(y_batch, logits)\n",
        "        grads = tape.gradient(loss, model.trainable_variables)\n",
        "        optimizer.apply_gradients(zip(grads, model.trainable_variables))\n",
        "        train_acc_metric.update_state(y_batch, logits)\n",
        "\n",
        "        if step % 100 == 0:\n",
        "            print(f\"Step {step}, Loss: {loss.numpy():.4f}, Accuracy: {train_acc_metric.result().numpy():.4f}\")\n",
        "\n",
        "    print(f\"Training Accuracy for epoch {epoch+1}: {train_acc_metric.result().numpy():.4f}\")\n",
        "    train_acc_metric.reset_state()\n",
        "end = time.time()\n",
        "print(f\"\\nTF Training time: {end - start:.2f} seconds\")\n",
        "\n",
        "# Evaluation loop\n",
        "for x_batch, y_batch in test_dataset:\n",
        "    test_logits = model(x_batch, training=False)\n",
        "    test_acc_metric.update_state(y_batch, test_logits)\n",
        "\n",
        "print(f\"Test Accuracy: {test_acc_metric.result().numpy():.4f}\")"
      ],
      "metadata": {
        "id": "KH-sDlHq_Gdw",
        "outputId": "051dd5bb-250b-4bb2-a2ff-6f4eb2db6462",
        "colab": {
          "base_uri": "https://localhost:8080/"
        }
      },
      "id": "KH-sDlHq_Gdw",
      "execution_count": 14,
      "outputs": [
        {
          "output_type": "stream",
          "name": "stdout",
          "text": [
            "\n",
            "Epoch 1/5\n",
            "Step 0, Loss: 2.3602, Accuracy: 0.0938\n",
            "Step 100, Loss: 0.4779, Accuracy: 0.7887\n",
            "Step 200, Loss: 0.4105, Accuracy: 0.8361\n",
            "Step 300, Loss: 0.2194, Accuracy: 0.8562\n",
            "Step 400, Loss: 0.2292, Accuracy: 0.8704\n",
            "Step 500, Loss: 0.2840, Accuracy: 0.8798\n",
            "Step 600, Loss: 0.1649, Accuracy: 0.8887\n",
            "Step 700, Loss: 0.2255, Accuracy: 0.8943\n",
            "Step 800, Loss: 0.4443, Accuracy: 0.8981\n",
            "Step 900, Loss: 0.2534, Accuracy: 0.9034\n",
            "Step 1000, Loss: 0.1072, Accuracy: 0.9072\n",
            "Step 1100, Loss: 0.1544, Accuracy: 0.9103\n",
            "Step 1200, Loss: 0.1151, Accuracy: 0.9123\n",
            "Step 1300, Loss: 0.1799, Accuracy: 0.9145\n",
            "Step 1400, Loss: 0.1053, Accuracy: 0.9169\n",
            "Step 1500, Loss: 0.0558, Accuracy: 0.9189\n",
            "Step 1600, Loss: 0.0825, Accuracy: 0.9219\n",
            "Step 1700, Loss: 0.0585, Accuracy: 0.9239\n",
            "Step 1800, Loss: 0.0427, Accuracy: 0.9256\n",
            "Training Accuracy for epoch 1: 0.9269\n",
            "\n",
            "Epoch 2/5\n",
            "Step 0, Loss: 0.2585, Accuracy: 0.9375\n",
            "Step 100, Loss: 0.2610, Accuracy: 0.9629\n",
            "Step 200, Loss: 0.0449, Accuracy: 0.9628\n",
            "Step 300, Loss: 0.0368, Accuracy: 0.9609\n",
            "Step 400, Loss: 0.1075, Accuracy: 0.9604\n",
            "Step 500, Loss: 0.1143, Accuracy: 0.9612\n",
            "Step 600, Loss: 0.1014, Accuracy: 0.9617\n",
            "Step 700, Loss: 0.1156, Accuracy: 0.9617\n",
            "Step 800, Loss: 0.1925, Accuracy: 0.9618\n",
            "Step 900, Loss: 0.1076, Accuracy: 0.9617\n",
            "Step 1000, Loss: 0.1221, Accuracy: 0.9626\n",
            "Step 1100, Loss: 0.1676, Accuracy: 0.9633\n",
            "Step 1200, Loss: 0.1461, Accuracy: 0.9637\n",
            "Step 1300, Loss: 0.0660, Accuracy: 0.9634\n",
            "Step 1400, Loss: 0.1021, Accuracy: 0.9636\n",
            "Step 1500, Loss: 0.1133, Accuracy: 0.9639\n",
            "Step 1600, Loss: 0.0142, Accuracy: 0.9646\n",
            "Step 1700, Loss: 0.2097, Accuracy: 0.9649\n",
            "Step 1800, Loss: 0.0594, Accuracy: 0.9651\n",
            "Training Accuracy for epoch 2: 0.9653\n",
            "\n",
            "Epoch 3/5\n",
            "Step 0, Loss: 0.0216, Accuracy: 1.0000\n",
            "Step 100, Loss: 0.0133, Accuracy: 0.9752\n",
            "Step 200, Loss: 0.0527, Accuracy: 0.9740\n",
            "Step 300, Loss: 0.1020, Accuracy: 0.9745\n",
            "Step 400, Loss: 0.2031, Accuracy: 0.9741\n",
            "Step 500, Loss: 0.0073, Accuracy: 0.9747\n",
            "Step 600, Loss: 0.0164, Accuracy: 0.9756\n",
            "Step 700, Loss: 0.1406, Accuracy: 0.9750\n",
            "Step 800, Loss: 0.0073, Accuracy: 0.9750\n",
            "Step 900, Loss: 0.0611, Accuracy: 0.9752\n",
            "Step 1000, Loss: 0.0308, Accuracy: 0.9755\n",
            "Step 1100, Loss: 0.1135, Accuracy: 0.9754\n",
            "Step 1200, Loss: 0.0254, Accuracy: 0.9753\n",
            "Step 1300, Loss: 0.1541, Accuracy: 0.9751\n",
            "Step 1400, Loss: 0.0944, Accuracy: 0.9751\n",
            "Step 1500, Loss: 0.3174, Accuracy: 0.9754\n",
            "Step 1600, Loss: 0.0890, Accuracy: 0.9752\n",
            "Step 1700, Loss: 0.0074, Accuracy: 0.9753\n",
            "Step 1800, Loss: 0.0378, Accuracy: 0.9752\n",
            "Training Accuracy for epoch 3: 0.9755\n",
            "\n",
            "Epoch 4/5\n",
            "Step 0, Loss: 0.0416, Accuracy: 1.0000\n",
            "Step 100, Loss: 0.0051, Accuracy: 0.9821\n",
            "Step 200, Loss: 0.0473, Accuracy: 0.9838\n",
            "Step 300, Loss: 0.0267, Accuracy: 0.9834\n",
            "Step 400, Loss: 0.0898, Accuracy: 0.9831\n",
            "Step 500, Loss: 0.0185, Accuracy: 0.9824\n",
            "Step 600, Loss: 0.0991, Accuracy: 0.9822\n",
            "Step 700, Loss: 0.0406, Accuracy: 0.9819\n",
            "Step 800, Loss: 0.0277, Accuracy: 0.9817\n",
            "Step 900, Loss: 0.0447, Accuracy: 0.9812\n",
            "Step 1000, Loss: 0.0330, Accuracy: 0.9812\n",
            "Step 1100, Loss: 0.0582, Accuracy: 0.9810\n",
            "Step 1200, Loss: 0.0354, Accuracy: 0.9811\n",
            "Step 1300, Loss: 0.0560, Accuracy: 0.9808\n",
            "Step 1400, Loss: 0.0173, Accuracy: 0.9809\n",
            "Step 1500, Loss: 0.1103, Accuracy: 0.9812\n",
            "Step 1600, Loss: 0.0068, Accuracy: 0.9814\n",
            "Step 1700, Loss: 0.0373, Accuracy: 0.9815\n",
            "Step 1800, Loss: 0.0208, Accuracy: 0.9815\n",
            "Training Accuracy for epoch 4: 0.9814\n",
            "\n",
            "Epoch 5/5\n",
            "Step 0, Loss: 0.0117, Accuracy: 1.0000\n",
            "Step 100, Loss: 0.0213, Accuracy: 0.9845\n",
            "Step 200, Loss: 0.1004, Accuracy: 0.9848\n",
            "Step 300, Loss: 0.0035, Accuracy: 0.9860\n",
            "Step 400, Loss: 0.0274, Accuracy: 0.9861\n",
            "Step 500, Loss: 0.0307, Accuracy: 0.9864\n",
            "Step 600, Loss: 0.1079, Accuracy: 0.9863\n",
            "Step 700, Loss: 0.0377, Accuracy: 0.9866\n",
            "Step 800, Loss: 0.0317, Accuracy: 0.9867\n",
            "Step 900, Loss: 0.1288, Accuracy: 0.9868\n",
            "Step 1000, Loss: 0.0680, Accuracy: 0.9866\n",
            "Step 1100, Loss: 0.0222, Accuracy: 0.9863\n",
            "Step 1200, Loss: 0.0946, Accuracy: 0.9858\n",
            "Step 1300, Loss: 0.0041, Accuracy: 0.9857\n",
            "Step 1400, Loss: 0.0535, Accuracy: 0.9855\n",
            "Step 1500, Loss: 0.0172, Accuracy: 0.9855\n",
            "Step 1600, Loss: 0.0639, Accuracy: 0.9856\n",
            "Step 1700, Loss: 0.0656, Accuracy: 0.9859\n",
            "Step 1800, Loss: 0.0075, Accuracy: 0.9858\n",
            "Training Accuracy for epoch 5: 0.9859\n",
            "\n",
            "TF Training time: 376.87 seconds\n",
            "Test Accuracy: 0.9743\n"
          ]
        }
      ]
    },
    {
      "cell_type": "markdown",
      "source": [
        "## Performance Otimization with Graph Execution using @tf.function"
      ],
      "metadata": {
        "id": "E4Nlg4lb_qdW"
      },
      "id": "E4Nlg4lb_qdW"
    },
    {
      "cell_type": "code",
      "source": [
        "import tensorflow as tf\n",
        "from tensorflow.keras.datasets import mnist\n",
        "from tensorflow.keras.utils import to_categorical\n",
        "import time\n",
        "\n",
        "# Load and preprocess data\n",
        "(x_train, y_train), (x_test, y_test) = mnist.load_data()\n",
        "x_train = x_train / 255.0   # Normalize pixel values to [0, 1]\n",
        "x_test = x_test / 255.0     # Normalize pixel values to [0, 1]\n",
        "y_train = to_categorical(y_train, num_classes=10)\n",
        "y_test = to_categorical(y_test, num_classes=10)\n",
        "\n",
        "# Prepare datasets\n",
        "batch_size = 32\n",
        "train_dataset = tf.data.Dataset.from_tensor_slices((x_train, y_train)).shuffle(10000).batch(batch_size)\n",
        "test_dataset = tf.data.Dataset.from_tensor_slices((x_test, y_test)).batch(batch_size)\n",
        "\n",
        "# Define model\n",
        "model = tf.keras.Sequential([\n",
        "    tf.keras.layers.Input(shape=(28, 28)),    # MNIST image size (28x28)\n",
        "    tf.keras.layers.Flatten(),\n",
        "    tf.keras.layers.Dense(128, activation='relu'),    # 128 neurons with ReLU activation\n",
        "    tf.keras.layers.Dense(10, activation='softmax')   # 10 output classes with softmax\n",
        "])\n",
        "\n",
        "# Define loss, optimizer, and metrics\n",
        "loss_fn = tf.keras.losses.CategoricalCrossentropy()\n",
        "optimizer = tf.keras.optimizers.Adam()\n",
        "train_acc_metric = tf.keras.metrics.CategoricalAccuracy()\n",
        "test_acc_metric = tf.keras.metrics.CategoricalAccuracy()\n",
        "\n",
        "@tf.function  # compile the function into a graph for faster execution\n",
        "def train_step(x_batch, y_batch):\n",
        "    with tf.GradientTape() as tape:\n",
        "        logits = model(x_batch, training=True)\n",
        "        loss = loss_fn(y_batch, logits)\n",
        "    grads = tape.gradient(loss, model.trainable_variables)\n",
        "    optimizer.apply_gradients(zip(grads, model.trainable_variables))\n",
        "    train_acc_metric.update_state(y_batch, logits)\n",
        "    return loss\n",
        "\n",
        "# Training loop\n",
        "epochs = 5\n",
        "start = time.time()\n",
        "for epoch in range(epochs):\n",
        "    print(f\"\\nEpoch {epoch + 1}/{epochs}\")\n",
        "    for step, (x_batch, y_batch) in enumerate(train_dataset):\n",
        "        loss = train_step(x_batch, y_batch)\n",
        "\n",
        "        if step % 100 == 0:\n",
        "            print(f\"Step {step}, Loss: {loss.numpy():.4f}, Accuracy: {train_acc_metric.result().numpy():.4f}\")\n",
        "\n",
        "    print(f\"Training Accuracy for epoch {epoch+1}: {train_acc_metric.result().numpy():.4f}\")\n",
        "    train_acc_metric.reset_state()\n",
        "end = time.time()\n",
        "print(f\"\\nTF Training time: {end - start:.2f} seconds\")\n",
        "\n",
        "# Evaluation loop\n",
        "for x_batch, y_batch in test_dataset:\n",
        "    test_logits = model(x_batch, training=False)\n",
        "    test_acc_metric.update_state(y_batch, test_logits)\n",
        "\n",
        "print(f\"Test Accuracy: {test_acc_metric.result().numpy():.4f}\")"
      ],
      "metadata": {
        "id": "Jmu_hciK_qle",
        "outputId": "2bff677f-0a57-4e75-9883-49d0aae741d1",
        "colab": {
          "base_uri": "https://localhost:8080/"
        }
      },
      "id": "Jmu_hciK_qle",
      "execution_count": 15,
      "outputs": [
        {
          "output_type": "stream",
          "name": "stdout",
          "text": [
            "\n",
            "Epoch 1/5\n",
            "Step 0, Loss: 2.3994, Accuracy: 0.0938\n",
            "Step 100, Loss: 0.4076, Accuracy: 0.7828\n",
            "Step 200, Loss: 0.4406, Accuracy: 0.8294\n",
            "Step 300, Loss: 0.4880, Accuracy: 0.8550\n",
            "Step 400, Loss: 0.2959, Accuracy: 0.8695\n",
            "Step 500, Loss: 0.1871, Accuracy: 0.8804\n",
            "Step 600, Loss: 0.5654, Accuracy: 0.8875\n",
            "Step 700, Loss: 0.1373, Accuracy: 0.8936\n",
            "Step 800, Loss: 0.1545, Accuracy: 0.8982\n",
            "Step 900, Loss: 0.4105, Accuracy: 0.9022\n",
            "Step 1000, Loss: 0.2357, Accuracy: 0.9063\n",
            "Step 1100, Loss: 0.1802, Accuracy: 0.9093\n",
            "Step 1200, Loss: 0.4323, Accuracy: 0.9120\n",
            "Step 1300, Loss: 0.1625, Accuracy: 0.9146\n",
            "Step 1400, Loss: 0.0466, Accuracy: 0.9168\n",
            "Step 1500, Loss: 0.3197, Accuracy: 0.9192\n",
            "Step 1600, Loss: 0.1511, Accuracy: 0.9211\n",
            "Step 1700, Loss: 0.1380, Accuracy: 0.9233\n",
            "Step 1800, Loss: 0.1218, Accuracy: 0.9254\n",
            "Training Accuracy for epoch 1: 0.9267\n",
            "\n",
            "Epoch 2/5\n",
            "Step 0, Loss: 0.1928, Accuracy: 0.9688\n",
            "Step 100, Loss: 0.1093, Accuracy: 0.9576\n",
            "Step 200, Loss: 0.1328, Accuracy: 0.9594\n",
            "Step 300, Loss: 0.0548, Accuracy: 0.9601\n",
            "Step 400, Loss: 0.2784, Accuracy: 0.9606\n",
            "Step 500, Loss: 0.2559, Accuracy: 0.9626\n",
            "Step 600, Loss: 0.1562, Accuracy: 0.9630\n",
            "Step 700, Loss: 0.0890, Accuracy: 0.9629\n",
            "Step 800, Loss: 0.1675, Accuracy: 0.9633\n",
            "Step 900, Loss: 0.0410, Accuracy: 0.9640\n",
            "Step 1000, Loss: 0.2080, Accuracy: 0.9643\n",
            "Step 1100, Loss: 0.0315, Accuracy: 0.9649\n",
            "Step 1200, Loss: 0.0544, Accuracy: 0.9651\n",
            "Step 1300, Loss: 0.0144, Accuracy: 0.9655\n",
            "Step 1400, Loss: 0.0635, Accuracy: 0.9654\n",
            "Step 1500, Loss: 0.0569, Accuracy: 0.9658\n",
            "Step 1600, Loss: 0.1160, Accuracy: 0.9665\n",
            "Step 1700, Loss: 0.1863, Accuracy: 0.9667\n",
            "Step 1800, Loss: 0.0234, Accuracy: 0.9669\n",
            "Training Accuracy for epoch 2: 0.9671\n",
            "\n",
            "Epoch 3/5\n",
            "Step 0, Loss: 0.0521, Accuracy: 1.0000\n",
            "Step 100, Loss: 0.1196, Accuracy: 0.9746\n",
            "Step 200, Loss: 0.0498, Accuracy: 0.9753\n",
            "Step 300, Loss: 0.2012, Accuracy: 0.9744\n",
            "Step 400, Loss: 0.1532, Accuracy: 0.9765\n",
            "Step 500, Loss: 0.0782, Accuracy: 0.9756\n",
            "Step 600, Loss: 0.0659, Accuracy: 0.9756\n",
            "Step 700, Loss: 0.0402, Accuracy: 0.9757\n",
            "Step 800, Loss: 0.0175, Accuracy: 0.9760\n",
            "Step 900, Loss: 0.0496, Accuracy: 0.9761\n",
            "Step 1000, Loss: 0.0728, Accuracy: 0.9763\n",
            "Step 1100, Loss: 0.0726, Accuracy: 0.9766\n",
            "Step 1200, Loss: 0.0885, Accuracy: 0.9764\n",
            "Step 1300, Loss: 0.0386, Accuracy: 0.9765\n",
            "Step 1400, Loss: 0.0252, Accuracy: 0.9763\n",
            "Step 1500, Loss: 0.2099, Accuracy: 0.9763\n",
            "Step 1600, Loss: 0.0049, Accuracy: 0.9765\n",
            "Step 1700, Loss: 0.0916, Accuracy: 0.9767\n",
            "Step 1800, Loss: 0.0318, Accuracy: 0.9769\n",
            "Training Accuracy for epoch 3: 0.9768\n",
            "\n",
            "Epoch 4/5\n",
            "Step 0, Loss: 0.0376, Accuracy: 1.0000\n",
            "Step 100, Loss: 0.0213, Accuracy: 0.9839\n",
            "Step 200, Loss: 0.0470, Accuracy: 0.9843\n",
            "Step 300, Loss: 0.1766, Accuracy: 0.9837\n",
            "Step 400, Loss: 0.0268, Accuracy: 0.9828\n",
            "Step 500, Loss: 0.0613, Accuracy: 0.9829\n",
            "Step 600, Loss: 0.0355, Accuracy: 0.9828\n",
            "Step 700, Loss: 0.2075, Accuracy: 0.9826\n",
            "Step 800, Loss: 0.0848, Accuracy: 0.9826\n",
            "Step 900, Loss: 0.0229, Accuracy: 0.9827\n",
            "Step 1000, Loss: 0.0252, Accuracy: 0.9825\n",
            "Step 1100, Loss: 0.0144, Accuracy: 0.9828\n",
            "Step 1200, Loss: 0.2965, Accuracy: 0.9829\n",
            "Step 1300, Loss: 0.0347, Accuracy: 0.9828\n",
            "Step 1400, Loss: 0.2422, Accuracy: 0.9830\n",
            "Step 1500, Loss: 0.0603, Accuracy: 0.9829\n",
            "Step 1600, Loss: 0.0421, Accuracy: 0.9831\n",
            "Step 1700, Loss: 0.0736, Accuracy: 0.9831\n",
            "Step 1800, Loss: 0.0141, Accuracy: 0.9832\n",
            "Training Accuracy for epoch 4: 0.9831\n",
            "\n",
            "Epoch 5/5\n",
            "Step 0, Loss: 0.2312, Accuracy: 0.9688\n",
            "Step 100, Loss: 0.0177, Accuracy: 0.9864\n",
            "Step 200, Loss: 0.0033, Accuracy: 0.9880\n",
            "Step 300, Loss: 0.0111, Accuracy: 0.9876\n",
            "Step 400, Loss: 0.0896, Accuracy: 0.9877\n",
            "Step 500, Loss: 0.0740, Accuracy: 0.9873\n",
            "Step 600, Loss: 0.0200, Accuracy: 0.9872\n",
            "Step 700, Loss: 0.0207, Accuracy: 0.9865\n",
            "Step 800, Loss: 0.0645, Accuracy: 0.9864\n",
            "Step 900, Loss: 0.0177, Accuracy: 0.9867\n",
            "Step 1000, Loss: 0.0064, Accuracy: 0.9869\n",
            "Step 1100, Loss: 0.0103, Accuracy: 0.9867\n",
            "Step 1200, Loss: 0.0100, Accuracy: 0.9871\n",
            "Step 1300, Loss: 0.0025, Accuracy: 0.9871\n",
            "Step 1400, Loss: 0.0553, Accuracy: 0.9869\n",
            "Step 1500, Loss: 0.0348, Accuracy: 0.9867\n",
            "Step 1600, Loss: 0.0479, Accuracy: 0.9869\n",
            "Step 1700, Loss: 0.0216, Accuracy: 0.9868\n",
            "Step 1800, Loss: 0.0142, Accuracy: 0.9868\n",
            "Training Accuracy for epoch 5: 0.9867\n",
            "\n",
            "TF Training time: 26.41 seconds\n",
            "Test Accuracy: 0.9763\n"
          ]
        }
      ]
    }
  ],
  "metadata": {
    "colab": {
      "provenance": []
    },
    "language_info": {
      "name": "python"
    },
    "kernelspec": {
      "name": "python3",
      "display_name": "Python 3"
    }
  },
  "nbformat": 4,
  "nbformat_minor": 5
}